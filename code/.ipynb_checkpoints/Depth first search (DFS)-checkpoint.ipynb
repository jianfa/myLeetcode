{
 "cells": [
  {
   "cell_type": "markdown",
   "metadata": {},
   "source": [
    "# Depth first search (DFS)"
   ]
  },
  {
   "cell_type": "markdown",
   "metadata": {},
   "source": [
    "## 1. 树主要的遍历方式\n",
    "\n",
    "1. breadth first search (BFS)\n",
    "2. depth first search (DFS)"
   ]
  },
  {
   "cell_type": "markdown",
   "metadata": {},
   "source": [
    "\n",
    "\n",
    "![tree](img/tree_1.png \"example1\")\n"
   ]
  },
  {
   "cell_type": "code",
   "execution_count": 1,
   "metadata": {
    "collapsed": true
   },
   "outputs": [],
   "source": [
    "# 二叉树\n",
    "class TreeNode:\n",
    "     def __init__(self, x):\n",
    "         self.val = x\n",
    "         self.left = None\n",
    "         self.right = None"
   ]
  },
  {
   "cell_type": "markdown",
   "metadata": {},
   "source": [
    "![bfs](img/tree_bfs.png \"example1\")\n",
    "![in-order](img/tree_inorder_dfs.png \"example1\")\n",
    "![pre-order](img/tree_preorder_dfs.png \"example1\")\n",
    "![post-order](img/tree_post_dfs.png \"example1\")"
   ]
  },
  {
   "cell_type": "markdown",
   "metadata": {},
   "source": [
    "## 2. 例子"
   ]
  },
  {
   "cell_type": "markdown",
   "metadata": {},
   "source": [
    "***Divide and conquer***   \n",
    "\n",
    "#### 问题：124  \n",
    "Problem: [Binary Tree Maximum Path Sum](https://leetcode.com/problems/binary-tree-maximum-path-sum/description/)\n",
    "\n",
    "描述 Description\n",
    "> Given a non-empty binary tree, find the maximum path sum.\n",
    "\n",
    ">For this problem, a path is defined as any sequence of nodes from some starting node to any node in the tree along the parent-child connections. The path must contain at least one node and does not need to go through the root.\n",
    "\n",
    "\n",
    ">Example 1\n",
    "\n",
    ">Input: [1,2,3]\n",
    "\n",
    "       1\n",
    "      / \\\n",
    "     2   3\n",
    "\n",
    ">Output: 6  \n",
    "\n",
    ">Example 2\n",
    ">Input: [-10,9,20,null,null,15,7] \n",
    "\n",
    "      -10\n",
    "      / \\\n",
    "     9  20\n",
    "        / \\\n",
    "       15  7\n",
    "\n",
    ">Output: 42\n",
    "\n",
    "\n"
   ]
  },
  {
   "cell_type": "code",
   "execution_count": 4,
   "metadata": {},
   "outputs": [],
   "source": [
    "\"\"\"\n",
    "Definition of TreeNode:\n",
    "class TreeNode:\n",
    "    def __init__(self, val):\n",
    "        self.val = val\n",
    "        self.left, self.right = None, None\n",
    "\"\"\"\n",
    "\n",
    "class Solution:\n",
    "    \"\"\"\n",
    "    @param root: The root of binary tree.\n",
    "    @return: An integer\n",
    "    \"\"\"\n",
    "    def maxPathSum(self, root):\n",
    "        # write your code here\n",
    "        ans = self.maxPathSumHelper(root)\n",
    "        return ans[1]\n",
    "        \n",
    "    def maxPathSumHelper(self, root):\n",
    "        if not root:\n",
    "            return 0,-2**31\n",
    "            \n",
    "        left = self.maxPathSumHelper(root.left)\n",
    "        right = self.maxPathSumHelper(root.right)\n",
    "        single = max(left[0] + root.val, right[0] + root.val , 0) # if negative, exclude it and return 0\n",
    "        maxpath = max(left[1], right[1], left[0] + right[0] + root.val)\n",
    "        return single, maxpath\n"
   ]
  },
  {
   "cell_type": "markdown",
   "metadata": {},
   "source": [
    "###### Recursive traversal 和divide and conquer最大的区别在于怎么返回结果，recursive traversal把结果放在参数中返回，每一次修改的是同一个变量，比较省空间。而divide and conquer是把结果单独返回，这样可以把左右子树返回的结果进行比较，缺点是比较费空间。所有需要对左右子树进行比较的问题，都需要用divide and conquer。"
   ]
  },
  {
   "cell_type": "markdown",
   "metadata": {},
   "source": [
    "#### 问题：529  \n",
    "Problem: [Minesweeper](https://leetcode.com/problems/minesweeper/)\n",
    "\n",
    "描述 Description  \n",
    ">Let's play the minesweeper game (Wikipedia, online game)!\n",
    "\n",
    ">You are given a 2D char matrix representing the game board. 'M' represents an unrevealed mine, 'E' represents an unrevealed empty square, 'B' represents a revealed blank square that has no adjacent (above, below, left, right, and all 4 diagonals) mines, digit ('1' to '8') represents how many mines are adjacent to this revealed square, and finally 'X' represents a revealed mine.\n",
    "\n",
    ">Now given the next click position (row and column indices) among all the unrevealed squares ('M' or 'E'), return the board after revealing this position according to the following rules:\n",
    "\n",
    ">If a mine ('M') is revealed, then the game is over - change it to 'X'.\n",
    "If an empty square ('E') with no adjacent mines is revealed, then change it to revealed blank ('B') and all of its adjacent unrevealed squares should be revealed recursively.\n",
    "If an empty square ('E') with at least one adjacent mine is revealed, then change it to a digit ('1' to '8') representing the number of adjacent mines.\n",
    "Return the board when no more squares will be revealed.\n",
    "\n",
    ">Example 1\n",
    "![example 1](img/529_1.png \"example1\")\n",
    ">Example 2\n",
    "![example 2](img/529_2.png \"example2\")\n"
   ]
  },
  {
   "cell_type": "code",
   "execution_count": 5,
   "metadata": {},
   "outputs": [],
   "source": [
    "class Solution:\n",
    "    def updateBoard(self, board, click):\n",
    "        # this is a DFS problem, use recursive algorithm \n",
    "        # Time Complexity O(NlogN)\n",
    "        # Space complexity O(N)\n",
    "        r,c = click\n",
    "        bx,by = len(board),len(board[0])\n",
    "        if 0 <= r < bx and 0 <= c < by:\n",
    "            # none empty\n",
    "            if board[r][c] == 'M':\n",
    "                board[r][c] = 'X'\n",
    "            elif board[r][c] == 'E':\n",
    "                dirs = [(-1,-1),(-1,0),(-1,1),(0,-1),(0,1),(1,-1),(1,0),(1,1)]\n",
    "                nbs = [(r+d[0],c+d[1]) for d in dirs]\n",
    "                #print(nbs)\n",
    "                nbs = [nb for nb in nbs if 0 <= nb[0] < bx and 0 <= nb[1] < by]\n",
    "                mine_n = sum([board[v][h]=='M' for v,h in nbs])\n",
    "                if mine_n:\n",
    "                    board[r][c]=str(mine_n)\n",
    "                else:\n",
    "                    board[r][c] = 'B'\n",
    "                    for nb in nbs:\n",
    "                        board = self.updateBoard(board, nb)\n",
    "        return board"
   ]
  },
  {
   "cell_type": "markdown",
   "metadata": {},
   "source": [
    "#### 问题：897\n",
    "Problem: [Increasing Order Search Tree](https://leetcode.com/problems/increasing-order-search-tree/)\n",
    "\n",
    "描述 Description\n",
    ">Given a tree, rearrange the tree in in-order so that the leftmost node in the tree is now the root of the tree, and every node has no left child and only 1 right child.\n",
    "> Example 1\n",
    "\n",
    "![example1](img/897.png)\n",
    "\n"
   ]
  },
  {
   "cell_type": "code",
   "execution_count": 6,
   "metadata": {
    "collapsed": true
   },
   "outputs": [],
   "source": [
    "# solution 1\n",
    "class Solution:\n",
    "    def increasingBST(self, root: TreeNode) -> TreeNode:\n",
    "        def inorder(root):\n",
    "            if root:\n",
    "                yield inorder(root.left)\n",
    "                yield root.val\n",
    "                yield inorder(root.right)\n",
    "        anchor = cur = TreeNode(None)\n",
    "        for v in inorder(root):\n",
    "            cur.right = TreeNode(v)\n",
    "            cur = cur.right\n",
    "        return anchor.right"
   ]
  },
  {
   "cell_type": "code",
   "execution_count": 7,
   "metadata": {
    "collapsed": true
   },
   "outputs": [],
   "source": [
    "# solution 2\n",
    "class Solution:\n",
    "    def increasingBST(self, root: TreeNode) -> TreeNode:\n",
    "        def inorder(node):\n",
    "            if node:\n",
    "                inorder(node.left)\n",
    "                node.left = None\n",
    "                self.cur.right = node\n",
    "                self.cur = node\n",
    "                inorder(node.right)\n",
    "                \n",
    "        ans = self.cur = TreeNode(None)\n",
    "        inorder(root)\n",
    "        return ans.right"
   ]
  },
  {
   "cell_type": "markdown",
   "metadata": {},
   "source": [
    "#### 问题：530\n",
    "Problem: [Minimum Absolute Difference in BST](https://leetcode.com/problems/minimum-absolute-difference-in-bst/)\n",
    "\n",
    "描述 Description\n",
    ">Given a binary search tree with non-negative values, find the minimum absolute difference between values of any two nodes.\n",
    "\n",
    ">Example 1\n",
    "\n",
    "![example1](img/530.png)\n"
   ]
  },
  {
   "cell_type": "code",
   "execution_count": 8,
   "metadata": {
    "collapsed": true
   },
   "outputs": [],
   "source": [
    "class Solution:\n",
    "    def getMinimumDifference(self, root: TreeNode) -> int:\n",
    "        # DFS problem\n",
    "        # use recursive\n",
    "        # Time complexity \n",
    "         \n",
    "        # solution 1, In order traversal\n",
    "        self.min = 2**31\n",
    "        self.cur = -2**31\n",
    "        self._helper(root)\n",
    "        return self.min\n",
    "    \n",
    "    def _helper(self,root):\n",
    "        if not root:\n",
    "            return\n",
    "        self._helper(root.left)\n",
    "        if root.val - self.cur < self.min:\n",
    "                self.min = root.val - self.cur\n",
    "        self.cur = root.val\n",
    "        self._helper(root.right)"
   ]
  },
  {
   "cell_type": "code",
   "execution_count": null,
   "metadata": {
    "collapsed": true
   },
   "outputs": [],
   "source": []
  },
  {
   "cell_type": "code",
   "execution_count": null,
   "metadata": {
    "collapsed": true
   },
   "outputs": [],
   "source": []
  },
  {
   "cell_type": "markdown",
   "metadata": {},
   "source": [
    "Binary Search Tree 中序遍历结果是排好序的"
   ]
  }
 ],
 "metadata": {
  "kernelspec": {
   "display_name": "Python 3",
   "language": "python",
   "name": "python3"
  },
  "language_info": {
   "codemirror_mode": {
    "name": "ipython",
    "version": 3
   },
   "file_extension": ".py",
   "mimetype": "text/x-python",
   "name": "python",
   "nbconvert_exporter": "python",
   "pygments_lexer": "ipython3",
   "version": "3.6.3"
  }
 },
 "nbformat": 4,
 "nbformat_minor": 2
}
