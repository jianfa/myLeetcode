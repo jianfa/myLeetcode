{
 "cells": [
  {
   "cell_type": "markdown",
   "metadata": {},
   "source": [
    "# Depth first search (DFS)"
   ]
  },
  {
   "cell_type": "markdown",
   "metadata": {},
   "source": [
    "## 1. 树主要的遍历方式\n",
    "\n",
    "1. breadth first search (BFS)\n",
    "2. depth first search (DFS)"
   ]
  },
  {
   "cell_type": "markdown",
   "metadata": {},
   "source": [
    "\n",
    "\n",
    "![tree](img/tree_1.png \"example1\")\n"
   ]
  },
  {
   "cell_type": "code",
   "execution_count": 1,
   "metadata": {
    "collapsed": true
   },
   "outputs": [],
   "source": [
    "# 二叉树\n",
    "class TreeNode:\n",
    "     def __init__(self, x):\n",
    "         self.val = x\n",
    "         self.left = None\n",
    "         self.right = None"
   ]
  },
  {
   "cell_type": "markdown",
   "metadata": {},
   "source": [
    "![bfs](img/dfs.png \"example1\")"
   ]
  },
  {
   "cell_type": "markdown",
   "metadata": {},
   "source": [
    "Time complexity: O(n), n is the node number  \n",
    "Space complexity: O(n), n is the node number"
   ]
  },
  {
   "cell_type": "markdown",
   "metadata": {},
   "source": [
    "![bfs](img/tree_bfs.png \"example1\")\n"
   ]
  },
  {
   "cell_type": "code",
   "execution_count": 6,
   "metadata": {
    "collapsed": true
   },
   "outputs": [],
   "source": [
    "# BFS\n",
    "def bfs(root):\n",
    "    if root is None:\n",
    "        return None\n",
    "    queue = collections.deque()\n",
    "    queue.append(root)\n",
    "    ans = []\n",
    "    while queue:\n",
    "        level_size = len(queue)\n",
    "        for _ in range(level_size):\n",
    "            cur = queue.popleft()\n",
    "            ans.append(cur.val)\n",
    "            if cur.left:\n",
    "                queue.append(cur.left)\n",
    "            if cur.right:\n",
    "                queue.append(cur.right)\n",
    "    return ans"
   ]
  },
  {
   "cell_type": "markdown",
   "metadata": {},
   "source": [
    "![in-order](img/tree_inorder_dfs.png \"example1\")\n",
    "![pre-order](img/tree_preorder_dfs.png \"example1\")\n",
    "![post-order](img/tree_post_dfs.png \"example1\")"
   ]
  },
  {
   "cell_type": "code",
   "execution_count": 2,
   "metadata": {
    "collapsed": true
   },
   "outputs": [],
   "source": [
    "\n",
    "# solution 1, normal recursive implementation\n",
    "class Solution1:\n",
    "    def dfs(self, root):\n",
    "        self.ans = []\n",
    "        self.inorder(root)\n",
    "        #self.preorder(root)\n",
    "        #self.postorder(root)\n",
    "        return self.ans\n",
    "    \n",
    "    def inorder(self, root):\n",
    "        if root is None: # ending condition\n",
    "            return\n",
    "        self.inorder(root.left) # visit left child\n",
    "        self.ans.append(root.val) # get root node value\n",
    "        self.inorder(root.right) # visit right child\n",
    "        \n",
    "    def preorder(self, root):\n",
    "        if root is None:\n",
    "            return\n",
    "        self.ans.append(root.val)\n",
    "        self.preorder(root.left)\n",
    "        self.preorder(root.right)\n",
    "    \n",
    "    def postorder(self, root):\n",
    "        if root is None:\n",
    "            return\n",
    "        self.postorder(root.left)\n",
    "        self.postorder(root.right)\n",
    "        self.ans.append(root.val)\n",
    "    "
   ]
  },
  {
   "cell_type": "code",
   "execution_count": 3,
   "metadata": {
    "collapsed": true
   },
   "outputs": [],
   "source": [
    "# solution 2, divide and conquer implementation\n",
    "class Solution2:\n",
    "    def dfs(self, root):\n",
    "        return self.inorder(root)\n",
    "        # return self.preorder(root)\n",
    "        # return self.postorder(root)\n",
    "\n",
    "    \n",
    "    def inorder(self, root):\n",
    "        if root is None:\n",
    "            return []\n",
    "        # divide\n",
    "        left = self.inorder(root.left) # result from the left child\n",
    "        right = self.inorder(root.right) # result from the right child\n",
    "        # conquer\n",
    "        return left + [root.val] + right \n",
    "    \n",
    "    def preorder(self, root):\n",
    "        if root is None:\n",
    "            return []\n",
    "        # divide\n",
    "        left = self.preorder(root.left) # result from the left child\n",
    "        right = self.preorder(root.right) # result from the right child\n",
    "        # conquer\n",
    "        return [root.val] + left + right \n",
    "    \n",
    "    def postorder(self, root):\n",
    "        if root is None:\n",
    "            return []\n",
    "        # divide\n",
    "        left = self.postorder(root.left) # result from the left child\n",
    "        right = self.postorder(root.right) # result from the right child\n",
    "        # conquer\n",
    "        return left + right + [root.val]\n",
    "        "
   ]
  },
  {
   "cell_type": "markdown",
   "metadata": {},
   "source": [
    "Normal recursion 和divide and conquer最大的区别在于怎么返回结果，normal recursion把结果放在参数中返回，每一次修改的是同一个变量，比较省空间。而divide and conquer是把结果单独返回，这样可以把左右子树返回的结果进行比较，缺点是比较费空间。所有需要对左右子树进行比较的问题，都需要用divide and conquer。"
   ]
  },
  {
   "cell_type": "code",
   "execution_count": 23,
   "metadata": {
    "collapsed": true
   },
   "outputs": [],
   "source": [
    "# non-recursive (stack) implementation\n",
    "class Solution3:\n",
    "    def dfs(self, root):\n",
    "        return self.inorder(root)\n",
    "        # return self.preorder(root)\n",
    "        # return self.postorder(root)\n",
    "    \n",
    "    def inorder(self, root):\n",
    "        if root is None:\n",
    "            return None\n",
    "        stack = collections.deque()\n",
    "        ans = []\n",
    "        p = root# we need a pointer\n",
    "        # we will visit every node twice\n",
    "        # at the visit, we push the node into a stack\n",
    "        # at the second visit, we pop the node from stack and write the value to answer list\n",
    "        while p is not None or stack :\n",
    "            if p is not None:  # first visit\n",
    "                stack.append(p)\n",
    "                p = p.left\n",
    "            else: # current pointer is None and stack is non-empty\n",
    "                p = stack.pop() # pop the right element, this is the second visit \n",
    "                ans.append(p.val)\n",
    "                p = p.right # point to the right child\n",
    "        return ans \n",
    "    \n",
    "    def preorder(self, root):\n",
    "        if root is None:\n",
    "            return None\n",
    "        stack = collections.deque()\n",
    "        ans = []\n",
    "        p = root\n",
    "        while p is not None or stack:\n",
    "            if p is not None:\n",
    "                ans.append(p.val) # write the value to the answer list at the first visit\n",
    "                stack.append(p)\n",
    "                p = p.left\n",
    "            else:\n",
    "                p = stack.pop() # this is second visit\n",
    "                p = p.right\n",
    "        return ans\n",
    "    \n",
    "    def postorder(self, root):\n",
    "        if root is None:\n",
    "            return None\n",
    "        stack = collections.deque()\n",
    "        ans = []\n",
    "        p = root\n",
    "        while p is not None or stack:\n",
    "            if p is not None:\n",
    "                if p.right is not None:\n",
    "                    stack.append(p.right)\n",
    "                stack.append(p)\n",
    "                p = p.left\n",
    "            else:\n",
    "                p = stack.pop()\n",
    "                if p.right == stack[-1]: # if right child hasn't been visited, pop right child out and visit if first\n",
    "                    stack.pop() # pop the right child out\n",
    "                    stack.append(p)  # push root node back into the stack\n",
    "                    p = p.right  # visit right child first\n",
    "                else: # there is no right child or the right child has been visited\n",
    "                    ans.append(p.val)\n",
    "                    p = None\n",
    "        return ans\n",
    "                           "
   ]
  },
  {
   "cell_type": "markdown",
   "metadata": {},
   "source": [
    "https://awwapp.com/#"
   ]
  },
  {
   "cell_type": "markdown",
   "metadata": {},
   "source": [
    "## 2. 例子"
   ]
  },
  {
   "cell_type": "markdown",
   "metadata": {},
   "source": [
    "#### 问题：897\n",
    "Problem: [Increasing Order Search Tree](https://leetcode.com/problems/increasing-order-search-tree/)\n",
    "\n",
    "描述 Description\n",
    ">Given a tree, rearrange the tree in in-order so that the leftmost node in the tree is now the root of the tree, and every node has no left child and only 1 right child.\n",
    "> Example 1\n",
    "\n",
    "![example1](img/897.png)\n",
    "\n",
    "\n",
    "\n",
    "\n",
    "\n"
   ]
  },
  {
   "cell_type": "code",
   "execution_count": 22,
   "metadata": {
    "collapsed": true
   },
   "outputs": [],
   "source": [
    "# solution 1\n",
    "class Solution:\n",
    "    def increasingBST(self, root) :\n",
    "        ans = self.cur = TreeNode(None)\n",
    "        self.inorder(root)\n",
    "        return ans.right\n",
    "    \n",
    "    def inorder(self, node):\n",
    "        if node:\n",
    "            self.inorder(node.left)\n",
    "            node.left = None\n",
    "            self.cur.right = node\n",
    "            self.cur = node\n",
    "            self.inorder(node.right)\n",
    "                \n",
    "\n",
    "\n",
    "# solution 2\n",
    "class Solution:\n",
    "    def increasingBST(self, root):\n",
    "        anchor = cur = TreeNode(None)\n",
    "        for v in self.inorder(root):\n",
    "            cur.right = TreeNode(v)\n",
    "            cur = cur.right\n",
    "        return anchor.right\n",
    "    \n",
    "    def inorder(self, root):\n",
    "        if root:\n",
    "            yield self.inorder(root.left)\n",
    "            yield root.val\n",
    "            yield self.inorder(root.right)\n"
   ]
  },
  {
   "cell_type": "markdown",
   "metadata": {},
   "source": [
    "\n",
    "\n",
    "#### 问题：530\n",
    "Problem: [Minimum Absolute Difference in BST](https://leetcode.com/problems/minimum-absolute-difference-in-bst/)\n",
    "\n",
    "描述 Description\n",
    ">Given a binary search tree with non-negative values, find the minimum absolute difference between values of any two nodes.\n",
    "\n",
    ">Example 1\n",
    "\n",
    "![example1](img/530.png)"
   ]
  },
  {
   "cell_type": "markdown",
   "metadata": {},
   "source": [
    "Binary Search Tree (BST)\n",
    "\n",
    "1. the key in each node must be greater than or equal to any key stored in the left sub-tree\n",
    "2. the key in each node must be less than or equal to any key stored in the right sub-tree\n",
    "\n",
    "Binary Search Tree 中序遍历结果是排好序的"
   ]
  },
  {
   "cell_type": "code",
   "execution_count": null,
   "metadata": {
    "collapsed": true
   },
   "outputs": [],
   "source": [
    "class Solution:\n",
    "    def getMinimumDifference(self, root: TreeNode) -> int:\n",
    "        self.min = float('Inf')\n",
    "        self.prev = float('-Inf')\n",
    "        self.inorder(root)\n",
    "        return self.min\n",
    "    \n",
    "    def inorder(self,root):\n",
    "        if root is None:\n",
    "            return\n",
    "        self.inorder(root.left)\n",
    "        if root.val - self.prev < self.min:\n",
    "                self.min = root.val - self.prev\n",
    "        self.prev = root.val\n",
    "        self.inorder(root.right)"
   ]
  },
  {
   "cell_type": "markdown",
   "metadata": {},
   "source": [
    "###### Divide and conquer"
   ]
  },
  {
   "cell_type": "markdown",
   "metadata": {},
   "source": [
    "#### 问题：110 \n",
    "Problem: [Balanced Binary Tree](https://leetcode.com/problems/balanced-binary-tree/)\n",
    "\n",
    "描述 Description  \n",
    ">Given a binary tree, determine if it is height-balanced.\n",
    "\n",
    ">For this problem, a height-balanced binary tree is defined as:\n",
    "\n",
    ">a binary tree in which the depth of the two subtrees of every node never differ by more than 1.\n",
    "\n",
    "\n",
    "![example 1](img/110.png \"example1\")\n",
    "\n"
   ]
  },
  {
   "cell_type": "code",
   "execution_count": 13,
   "metadata": {},
   "outputs": [],
   "source": [
    "# Definition for a binary tree node.\n",
    "# class TreeNode:\n",
    "#     def __init__(self, x):\n",
    "#         self.val = x\n",
    "#         self.left = None\n",
    "#         self.right = None\n",
    "\n",
    "class Solution:\n",
    "    def isBalanced(self, root) -> bool:\n",
    "        return self.helper(root)[1]\n",
    "        \n",
    "    def helper(self, root):\n",
    "        if root is None:\n",
    "            return 0,True # depth and isBalanced\n",
    "        left = self.helper(root.left)\n",
    "        right = self.helper(root.right)\n",
    "        if left[1] == False or right[1] == False or abs(left[0]-right[0]) > 1:\n",
    "            return max(left[0],right[0]) + 1, False\n",
    "        else:\n",
    "            return max(left[0], right[0]) + 1, True"
   ]
  },
  {
   "cell_type": "markdown",
   "metadata": {},
   "source": [
    " \n",
    "\n",
    "#### 问题：124  \n",
    "Problem: [Binary Tree Maximum Path Sum](https://leetcode.com/problems/binary-tree-maximum-path-sum/description/)\n",
    "\n",
    "描述 Description\n",
    "> Given a non-empty binary tree, find the maximum path sum.\n",
    "\n",
    ">For this problem, a path is defined as any sequence of nodes from some starting node to any node in the tree along the parent-child connections. The path must contain at least one node and does not need to go through the root.\n",
    "\n",
    "\n",
    ">Example 1\n",
    "\n",
    ">Input: [1,2,3]\n",
    "\n",
    "       1\n",
    "      / \\\n",
    "     2   3\n",
    "\n",
    ">Output: 6  \n",
    "\n",
    ">Example 2\n",
    ">Input: [-10,9,20,null,null,15,7] \n",
    "\n",
    "      -10\n",
    "      / \\\n",
    "     9  20\n",
    "        / \\\n",
    "       15  7\n",
    "\n",
    ">Output: 42\n",
    "\n",
    "\n",
    "\n"
   ]
  },
  {
   "cell_type": "code",
   "execution_count": 21,
   "metadata": {
    "collapsed": true
   },
   "outputs": [],
   "source": [
    "# Definition for a binary tree node.\n",
    "# class TreeNode:\n",
    "#     def __init__(self, x):\n",
    "#         self.val = x\n",
    "#         self.left = None\n",
    "#         self.right = None\n",
    "\n",
    "class Solution:\n",
    "    \"\"\"\n",
    "    @param root: The root of binary tree.\n",
    "    @return: An integer\n",
    "    \"\"\"\n",
    "    def maxPathSum(self, root):\n",
    "        ans = self.maxPathSumHelper(root)\n",
    "        return ans[1]\n",
    "        \n",
    "    def maxPathSumHelper(self, root):\n",
    "        if not root:\n",
    "            return 0,float('-Inf')\n",
    "        left = self.maxPathSumHelper(root.left)\n",
    "        right = self.maxPathSumHelper(root.right)\n",
    "        single = max(left[0] + root.val, right[0] + root.val , 0) # if negative, exclude it and return 0\n",
    "        maxpath = max(left[1], right[1], left[0] + right[0] + root.val)\n",
    "        return single, maxpath\n",
    "\n"
   ]
  },
  {
   "cell_type": "markdown",
   "metadata": {},
   "source": [
    "\n",
    "#### 问题：79\n",
    "Problem: [Word Search](https://leetcode.com/problems/word-search/)\n",
    "\n",
    "描述 Description\n",
    ">Given a 2D board and a word, find if the word exists in the grid.\n",
    "\n",
    ">The word can be constructed from letters of sequentially adjacent cell, where \"adjacent\" cells are those horizontally or vertically neighboring. The same letter cell may not be used more than once.\n",
    "\n",
    "![example1](img/79.png)"
   ]
  },
  {
   "cell_type": "code",
   "execution_count": 17,
   "metadata": {},
   "outputs": [],
   "source": [
    "class Solution:\n",
    "    def exist(self, board, word) :\n",
    "        if len(board) < 1 or len(board[0]) < 1 or len(word) < 1:\n",
    "            return False\n",
    "        for i in range(len(board)):\n",
    "            for j in range(len(board[0])):\n",
    "                if board[i][j] == word[0] and self.dfs(board, i,j, word, 0):\n",
    "                    return True\n",
    "        return False\n",
    "        \n",
    "    def dfs(self, board, r,c, word, word_index):\n",
    "        if len(word) - 1 == word_index:\n",
    "            return True\n",
    "        board[r][c] = ''\n",
    "        for i,j in [(r,c+1),(r,c-1),(r+1,c),(r-1,c)]:\n",
    "            if 0 <= i < len(board) and 0 <= j < len(board[0]) and board[i][j] == word[word_index+1] and self.dfs(board, i, j, word, word_index+1):\n",
    "                return True\n",
    "        board[r][c] = word[word_index]\n",
    "        return False\n"
   ]
  },
  {
   "cell_type": "markdown",
   "metadata": {},
   "source": [
    "## 3. Homework:\n",
    "\n",
    "#### Required\n",
    "[144. Binary Tree Preorder Traversal](https://leetcode.com/problems/binary-tree-preorder-traversal/)  \n",
    "[530. Minimum Absolute Difference in BST](https://leetcode.com/problems/minimum-absolute-difference-in-bst/)  \n",
    "[110. Balanced Binary Tree](https://leetcode.com/problems/balanced-binary-tree/)  \n",
    "[897. Increasing Order Search Tree](https://leetcode.com/problems/increasing-order-search-tree/)  \n",
    "[124. Binary Tree Maximum Path Sum](https://leetcode.com/problems/binary-tree-maximum-path-sum/)  \n",
    "[79. Word Search](https://leetcode.com/problems/word-search/)\n",
    "\n",
    "#### Suggested\n",
    "[98. Validate Binary Search Tree](https://leetcode.com/problems/validate-binary-search-tree/)  \n",
    "[529. Minesweeper](https://leetcode.com/problems/minesweeper/)"
   ]
  }
 ],
 "metadata": {
  "kernelspec": {
   "display_name": "Python 3",
   "language": "python",
   "name": "python3"
  },
  "language_info": {
   "codemirror_mode": {
    "name": "ipython",
    "version": 3
   },
   "file_extension": ".py",
   "mimetype": "text/x-python",
   "name": "python",
   "nbconvert_exporter": "python",
   "pygments_lexer": "ipython3",
   "version": "3.6.3"
  }
 },
 "nbformat": 4,
 "nbformat_minor": 2
}
